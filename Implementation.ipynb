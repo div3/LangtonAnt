{
 "cells": [
  {
   "cell_type": "markdown",
   "metadata": {},
   "source": [
    "## Implementation of Langton's Ant\n",
    "#### This implementation requires use of the following python libraries: \n",
    "    - numpy, for creating and managing the 'space'\n",
    "    - matplotlib, for visualizing the results\n",
    "    - enum, to remove ambiguity regarding both relative and cardinal directions"
   ]
  },
  {
   "cell_type": "code",
   "execution_count": 5,
   "metadata": {
    "collapsed": true
   },
   "outputs": [],
   "source": [
    "import numpy as np\n",
    "import matplotlib.pyplot as plt\n",
    "from enum import Enum"
   ]
  },
  {
   "cell_type": "markdown",
   "metadata": {},
   "source": [
    "### Defining Initial Variables\n",
    "    - x_lim and y_lim represent the x and y boundaries. \n",
    "    - start and current_position respectively define the initial and current positions of an ant. \n",
    "    - Space is a 2-d array initialized with all 0's."
   ]
  },
  {
   "cell_type": "code",
   "execution_count": 2,
   "metadata": {
    "collapsed": true
   },
   "outputs": [],
   "source": [
    "# Definitions:\n",
    "x_limit = 5000\n",
    "y_limit = 5000\n",
    "start = [2500,2500]\n",
    "current_position = start\n",
    "space = np.zeros(shape = (x_limit, y_limit))"
   ]
  },
  {
   "cell_type": "markdown",
   "metadata": {},
   "source": [
    "This function resets start and space to initial condtitions"
   ]
  },
  {
   "cell_type": "code",
   "execution_count": 3,
   "metadata": {
    "collapsed": true
   },
   "outputs": [],
   "source": [
    "def initialize(space):\n",
    "    start = [2500,2500]\n",
    "    space = np.zeros(shape = (x_limit, y_limit))\n",
    "    return start, space"
   ]
  },
  {
   "cell_type": "markdown",
   "metadata": {},
   "source": [
    "### Defining the Enums\n",
    "Enums are a defined set of symbolic names, these help clean out the implementation and remove ambiguity regarding directions. \n",
    "    - The 'Direction' enum contains all the possible directions that an ant can take.\n",
    "    - The 'next_direction' enum contains the next relative step an ant can take"
   ]
  },
  {
   "cell_type": "code",
   "execution_count": 4,
   "metadata": {
    "collapsed": true
   },
   "outputs": [],
   "source": [
    "class direction(Enum):\n",
    "    NORTH = \"NORTH\"\n",
    "    SOUTH = \"SOUTH\"\n",
    "    EAST = \"EAST\"\n",
    "    WEST = \"WEST\"\n",
    "class next_direction(Enum):\n",
    "    LEFT = \"LEFT\"\n",
    "    RIGHT = \"RIGHT\""
   ]
  },
  {
   "cell_type": "markdown",
   "metadata": {},
   "source": [
    "### The 'get_next_coords' function\n",
    "This function uses the current_direction and determines the next_step to take and return the next_direction that an ant will be facing after this step. \n",
    "\n",
    "For example, if an ant were facing North at (10, 10) and had to turn left, this function would return (9, 10) and 'West'"
   ]
  },
  {
   "cell_type": "code",
   "execution_count": 10,
   "metadata": {
    "collapsed": true
   },
   "outputs": [],
   "source": [
    "def get_next_coords(next_coords, current_direction, next_step):\n",
    "    if current_direction == direction.NORTH:\n",
    "        if next_step == next_direction.LEFT:\n",
    "            next_coords[0] = next_coords[0]-1\n",
    "            next_heading = direction.WEST\n",
    "        else:\n",
    "            next_coords[0] = next_coords[0]+1\n",
    "            next_heading = direction.EAST\n",
    "    elif current_direction == direction.SOUTH:\n",
    "        if next_step == next_direction.LEFT:\n",
    "            next_coords[0]+=1 \n",
    "            next_heading = direction.EAST\n",
    "        else:\n",
    "            next_coords[0]-=1\n",
    "            next_heading = direction.WEST\n",
    "    elif current_direction == direction.EAST:\n",
    "        if next_step == next_direction.LEFT:\n",
    "            next_coords[1]+=1\n",
    "            next_heading = direction.NORTH\n",
    "        else:\n",
    "            next_coords[1]-=1\n",
    "            next_heading = direction.SOUTH\n",
    "    elif current_direction == direction.WEST:\n",
    "        if next_step == next_direction.LEFT:\n",
    "            next_coords[1]-=1\n",
    "            next_heading = direction.SOUTH\n",
    "        else:\n",
    "            next_coords[1]+=1\n",
    "            next_heading = direction.NORTH\n",
    "    return next_coords, next_heading"
   ]
  },
  {
   "cell_type": "markdown",
   "metadata": {},
   "source": [
    "### The 'run_ant' function\n",
    "This function iterates over the given grid('space'), num_times starting from the initial given position('current_position'). \n",
    "\n",
    "It starts by setting the current direction to North. Then it iterates over the follwing steps:\n",
    "    - check if current tile is 1 (represeting black)\n",
    "        - if so, then set it to white, turn right and move forward\n",
    "        - otherwise, set it to black, turn left and move forward"
   ]
  },
  {
   "cell_type": "code",
   "execution_count": 11,
   "metadata": {
    "collapsed": true
   },
   "outputs": [],
   "source": [
    "def run_ant(space, current_position, num_times):\n",
    "    current_direction = direction.NORTH\n",
    "    ones = 0\n",
    "    for _ in range(num_times):\n",
    "        if space[current_position[0]][current_position[1]] == 1:\n",
    "            space[current_position[0]][current_position[1]] = 0\n",
    "            current_position, current_direction = get_next_coords(current_position, current_direction, next_direction.LEFT)\n",
    "        elif space[current_position[0]][current_position[1]] == 0:\n",
    "            ones = ones + 1\n",
    "            space[current_position[0]][current_position[1]] = 1\n",
    "            current_position, current_direction = get_next_coords(current_position, current_direction, next_direction.RIGHT)\n",
    "    print(ones)\n",
    "    return space"
   ]
  },
  {
   "cell_type": "markdown",
   "metadata": {},
   "source": [
    "### Running the code\n",
    "This snippet, initalizes the starting, current location and resets the space to be empty. It then calls 'run_ant' to iterate over the space 50000 times. "
   ]
  },
  {
   "cell_type": "code",
   "execution_count": 12,
   "metadata": {},
   "outputs": [
    {
     "name": "stdout",
     "output_type": "stream",
     "text": [
      "27667\n"
     ]
    }
   ],
   "source": [
    "start, space = initialize(space)\n",
    "current_position = start\n",
    "space = run_ant(space, current_position, 50000)"
   ]
  },
  {
   "cell_type": "markdown",
   "metadata": {
    "collapsed": true
   },
   "source": [
    "## Visualizing the results\n",
    "#### Initial setup:\n",
    "We first plot the entire grid and as we can see plotting the whole space does not give a very detailed picture of the results."
   ]
  },
  {
   "cell_type": "code",
   "execution_count": 17,
   "metadata": {
    "scrolled": true
   },
   "outputs": [
    {
     "data": {
      "image/png": "[encoded data removed]",
      "text/plain": [
       "<matplotlib.figure.Figure at 0x11c8279e8>"
      ]
     },
     "metadata": {},
     "output_type": "display_data"
    }
   ],
   "source": [
    "plt.imshow(space, cmap='Greys', interpolation='nearest')\n",
    "plt.show()"
   ]
  },
  {
   "cell_type": "markdown",
   "metadata": {},
   "source": [
    "#### Zooming in\n",
    "We can get a rough idea of where to zoom in using the axis above. The following snippet restrains the x and y axis to a 200\\*200 grid, giving a good visualization of the emergent results."
   ]
  },
  {
   "cell_type": "code",
   "execution_count": 25,
   "metadata": {},
   "outputs": [
    {
     "data": {
      "image/png": "[encoded data removed]",
      "text/plain": [
       "<matplotlib.figure.Figure at 0x1193ff7f0>"
      ]
     },
     "metadata": {},
     "output_type": "display_data"
    }
   ],
   "source": [
    "plt.imshow(space, cmap='Greys', interpolation='nearest')\n",
    "plt.axis([2400,2600,2400,2600])\n",
    "plt.show()"
   ]
  },
  {
   "cell_type": "markdown",
   "metadata": {},
   "source": [
    "We can also zoom in further to focus on the results further. The first plot here focuses on the randomness that is expected at start, and the second looks at the repeating pattern that emerges."
   ]
  },
  {
   "cell_type": "code",
   "execution_count": 41,
   "metadata": {},
   "outputs": [
    {
     "data": {
      "image/png": "[encoded data removed]",
      "text/plain": [
       "<matplotlib.figure.Figure at 0x10dec4da0>"
      ]
     },
     "metadata": {},
     "output_type": "display_data"
    },
    {
     "data": {
      "image/png": "[encoded data removed]",
      "text/plain": [
       "<matplotlib.figure.Figure at 0x11ccf6240>"
      ]
     },
     "metadata": {},
     "output_type": "display_data"
    }
   ],
   "source": [
    "plt.imshow(space, cmap='Greys', interpolation='nearest')\n",
    "plt.axis([2470,2550,2470,2550])\n",
    "plt.show()\n",
    "plt.imshow(space, cmap='Greys', interpolation='nearest')\n",
    "plt.axis([2450,2480,2440,2460])\n",
    "plt.show()"
   ]
  },
  {
   "cell_type": "markdown",
   "metadata": {},
   "source": [
    "## Depth of Traversal\n",
    "#### The 'run_ant_with_addition' function does the same things as the 'run_ant' function but instead of reversing the value present in tile, it increments it by 1 everytime an ant steps on it"
   ]
  },
  {
   "cell_type": "code",
   "execution_count": 42,
   "metadata": {
    "collapsed": true
   },
   "outputs": [],
   "source": [
    "def run_ant_with_addition(space, current_position, num_times):\n",
    "    current_direction = direction.NORTH\n",
    "    ones = 0\n",
    "    for _ in range(num_times):\n",
    "        if space[current_position[0]][current_position[1]]%2 == 1:\n",
    "            current_position, current_direction = get_next_coords(current_position, current_direction, next_direction.LEFT)\n",
    "        elif space[current_position[0]][current_position[1]]%2 == 0:\n",
    "            current_position, current_direction = get_next_coords(current_position, current_direction, next_direction.RIGHT)\n",
    "        space[current_position[0]][current_position[1]] += 1\n",
    "    return space"
   ]
  },
  {
   "cell_type": "code",
   "execution_count": 43,
   "metadata": {},
   "outputs": [
    {
     "name": "stdout",
     "output_type": "stream",
     "text": [
      "[2500, 2500] [2500, 2500]\n"
     ]
    }
   ],
   "source": [
    "start, space = initialize(space)\n",
    "current_position = start\n",
    "print(start, current_position)\n",
    "space = run_ant_with_addition(space, current_position, 90000)"
   ]
  },
  {
   "cell_type": "markdown",
   "metadata": {},
   "source": [
    "### Visualizing Depth of Traversal\n",
    "In this case, we will move away from black/white traversal and use a colour coded scheme to visualize the space. As we can see, similar to before if we just visualize the whole plot, it is too dim to see a pattern. So we zoom in, on doing that, we can see that in the random part of the movements, the center and north is the most highly visited, probably because of it being the initial point, and as we go into the repeated pattern we see almost a cyclic pattern where the center point is again brighter and the edges follow a pattern of having an equal and uniform amount of visits. "
   ]
  },
  {
   "cell_type": "code",
   "execution_count": 57,
   "metadata": {},
   "outputs": [
    {
     "data": {
      "image/png": "[encoded data removed]",
      "text/plain": [
       "<matplotlib.figure.Figure at 0x11d1f2d68>"
      ]
     },
     "metadata": {},
     "output_type": "display_data"
    },
    {
     "data": {
      "image/png": "[encoded data removed]",
      "text/plain": [
       "<matplotlib.figure.Figure at 0x11cb0c0f0>"
      ]
     },
     "metadata": {},
     "output_type": "display_data"
    },
    {
     "data": {
      "image/png": "[encoded data removed]",
      "text/plain": [
       "<matplotlib.figure.Figure at 0x11cd536a0>"
      ]
     },
     "metadata": {},
     "output_type": "display_data"
    }
   ],
   "source": [
    "plt.imshow(space, interpolation='nearest')\n",
    "plt.axis([0,5000,0,5000])\n",
    "plt.show()\n",
    "plt.imshow(space, interpolation='nearest')\n",
    "plt.axis([2470,2530,2470,2530])\n",
    "plt.show()\n",
    "plt.imshow(space, interpolation='nearest')\n",
    "plt.axis([2460,2480,2490,2500])\n",
    "plt.show()"
   ]
  },
  {
   "cell_type": "code",
   "execution_count": 160,
   "metadata": {
    "collapsed": true
   },
   "outputs": [],
   "source": [
    "def multiple_ants(space, current_position, num_times):\n",
    "    current_direction = direction.NORTH\n",
    "    ones = 0\n",
    "    for _ in range(num_times):\n",
    "        for ant in current_position:\n",
    "            if space[ant[0]][ant[1]]%2 == 1:\n",
    "                space[ant[0]][ant[1]] = 0\n",
    "                ant, current_direction = get_next_coords(ant, current_direction, next_direction.LEFT)\n",
    "            elif space[ant[0]][ant[1]]%2 == 0:\n",
    "                space[ant[0]][ant[1]] = 1\n",
    "                ant, current_direction = get_next_coords(ant, current_direction, next_direction.RIGHT)\n",
    "    return space"
   ]
  },
  {
   "cell_type": "code",
   "execution_count": 179,
   "metadata": {},
   "outputs": [
    {
     "name": "stdout",
     "output_type": "stream",
     "text": [
      "[2500, 2500]\n"
     ]
    }
   ],
   "source": [
    "start, space = initialize(space)\n",
    "print(start)\n",
    "current_position = [[2600, 2600], start, start]\n",
    "space = multiple_ants(space, current_position, 5000000)"
   ]
  },
  {
   "cell_type": "code",
   "execution_count": 183,
   "metadata": {},
   "outputs": [
    {
     "data": {
      "image/png": "[encoded data removed]",
      "text/plain": [
       "<matplotlib.figure.Figure at 0x11dc2e3c8>"
      ]
     },
     "metadata": {},
     "output_type": "display_data"
    }
   ],
   "source": [
    "plt.imshow(space,cmap='Greys', interpolation='nearest')\n",
    "plt.axis([2000, 3000, 2000, 3000])\n",
    "plt.show()"
   ]
  },
  {
   "cell_type": "code",
   "execution_count": null,
   "metadata": {
    "collapsed": true
   },
   "outputs": [],
   "source": []
  }
 ],
 "metadata": {
  "kernelspec": {
   "display_name": "Python 3",
   "language": "python",
   "name": "python3"
  },
  "language_info": {
   "codemirror_mode": {
    "name": "ipython",
    "version": 3
   },
   "file_extension": ".py",
   "mimetype": "text/x-python",
   "name": "python",
   "nbconvert_exporter": "python",
   "pygments_lexer": "ipython3",
   "version": "3.6.3"
  }
 },
 "nbformat": 4,
 "nbformat_minor": 2
}
