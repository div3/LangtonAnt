{
 "cells": [
  {
   "cell_type": "code",
   "execution_count": 2,
   "metadata": {
    "collapsed": true
   },
   "outputs": [],
   "source": [
    "import numpy as np\n",
    "import matplotlib.pyplot as plt\n",
    "from enum import Enum"
   ]
  },
  {
   "cell_type": "code",
   "execution_count": 51,
   "metadata": {},
   "outputs": [],
   "source": [
    "# Definitions:\n",
    "x_limit = 5000\n",
    "y_limit = 5000\n",
    "start = [2500,2500]\n",
    "current_position = start\n",
    "space = np.zeros(shape = (x_limit, y_limit))"
   ]
  },
  {
   "cell_type": "code",
   "execution_count": 140,
   "metadata": {},
   "outputs": [],
   "source": [
    "def initialize(space):\n",
    "    start = [2500,2500]\n",
    "    space = np.zeros(shape = (x_limit, y_limit))\n",
    "    return start, space"
   ]
  },
  {
   "cell_type": "code",
   "execution_count": 53,
   "metadata": {
    "collapsed": true
   },
   "outputs": [],
   "source": [
    "def run_ant(space, current_position, num_times):\n",
    "    current_direction = direction.NORTH\n",
    "    ones = 0\n",
    "    for _ in range(num_times):\n",
    "        if space[current_position[0]][current_position[1]] == 1:\n",
    "            space[current_position[0]][current_position[1]] = 0\n",
    "            current_position, current_direction = get_next_coords(current_position, current_direction, next_direction.LEFT)\n",
    "        elif space[current_position[0]][current_position[1]] == 0:\n",
    "            ones = ones + 1\n",
    "            space[current_position[0]][current_position[1]] = 1\n",
    "            current_position, current_direction = get_next_coords(current_position, current_direction, next_direction.RIGHT)\n",
    "    print(ones)\n",
    "    return space"
   ]
  },
  {
   "cell_type": "code",
   "execution_count": 54,
   "metadata": {
    "collapsed": true
   },
   "outputs": [],
   "source": [
    "class direction(Enum):\n",
    "    NORTH = \"NORTH\"\n",
    "    SOUTH = \"SOUTH\"\n",
    "    EAST = \"EAST\"\n",
    "    WEST = \"WEST\"\n",
    "class next_direction(Enum):\n",
    "    LEFT = \"LEFT\"\n",
    "    RIGHT = \"RIGHT\""
   ]
  },
  {
   "cell_type": "code",
   "execution_count": 55,
   "metadata": {
    "collapsed": true
   },
   "outputs": [],
   "source": [
    "def get_next_coords(next_coords, current_direction, next_step):\n",
    "    if current_direction == direction.NORTH:\n",
    "        if next_step == next_direction.LEFT:\n",
    "            next_coords[0] = next_coords[0]-1\n",
    "            next_heading = direction.WEST\n",
    "        else:\n",
    "            next_coords[0] = next_coords[0]+1\n",
    "            next_heading = direction.EAST\n",
    "    elif current_direction == direction.SOUTH:\n",
    "        if next_step == next_direction.LEFT:\n",
    "            next_coords[0]+=1 \n",
    "            next_heading = direction.EAST\n",
    "        else:\n",
    "            next_coords[0]-=1\n",
    "            next_heading = direction.WEST\n",
    "    elif current_direction == direction.EAST:\n",
    "        if next_step == next_direction.LEFT:\n",
    "            next_coords[1]+=1\n",
    "            next_heading = direction.NORTH\n",
    "        else:\n",
    "            next_coords[1]-=1\n",
    "            next_heading = direction.SOUTH\n",
    "    elif current_direction == direction.WEST:\n",
    "        if next_step == next_direction.LEFT:\n",
    "            next_coords[1]-=1\n",
    "            next_heading = direction.SOUTH\n",
    "        else:\n",
    "            next_coords[1]+=1\n",
    "            next_heading = direction.NORTH\n",
    "    return next_coords, next_heading"
   ]
  },
  {
   "cell_type": "code",
   "execution_count": 57,
   "metadata": {
    "scrolled": true
   },
   "outputs": [
    {
     "name": "stdout",
     "output_type": "stream",
     "text": [
      "[2500, 2500] [2500, 2500]\n",
      "27667\n"
     ]
    }
   ],
   "source": [
    "start, space = initialize(space)\n",
    "current_position = start\n",
    "print(start, current_position)\n",
    "space = run_ant(space, current_position, 50000)"
   ]
  },
  {
   "cell_type": "code",
   "execution_count": 65,
   "metadata": {},
   "outputs": [
    {
     "data": {
      "image/png": "[encoded data removed]",
      "text/plain": [
       "<matplotlib.figure.Figure at 0x11c85d400>"
      ]
     },
     "metadata": {},
     "output_type": "display_data"
    }
   ],
   "source": [
    "plt.imshow(space, cmap='Greys', interpolation='nearest')\n",
    "plt.axis([2400,2600,2500,2400])\n",
    "plt.show()"
   ]
  },
  {
   "cell_type": "code",
   "execution_count": 157,
   "metadata": {
    "collapsed": true
   },
   "outputs": [],
   "source": [
    "def run_ant_with_addition(space, current_position, num_times):\n",
    "    current_direction = direction.NORTH\n",
    "    ones = 0\n",
    "    for _ in range(num_times):\n",
    "        if space[current_position[0]][current_position[1]]%2 == 1:\n",
    "            current_position, current_direction = get_next_coords(current_position, current_direction, next_direction.LEFT)\n",
    "        elif space[current_position[0]][current_position[1]]%2 == 0:\n",
    "            current_position, current_direction = get_next_coords(current_position, current_direction, next_direction.RIGHT)\n",
    "        space[current_position[0]][current_position[1]] += 1\n",
    "    return space"
   ]
  },
  {
   "cell_type": "code",
   "execution_count": 158,
   "metadata": {},
   "outputs": [
    {
     "name": "stdout",
     "output_type": "stream",
     "text": [
      "[2500, 2500] [2500, 2500]\n"
     ]
    }
   ],
   "source": [
    "start, space = initialize(space)\n",
    "current_position = start\n",
    "print(start, current_position)\n",
    "space = run_ant_with_addition(space, current_position, 90000)"
   ]
  },
  {
   "cell_type": "code",
   "execution_count": 159,
   "metadata": {},
   "outputs": [
    {
     "data": {
      "image/png": "[encoded data removed]",
      "text/plain": [
       "<matplotlib.figure.Figure at 0x11de21860>"
      ]
     },
     "metadata": {},
     "output_type": "display_data"
    }
   ],
   "source": [
    "plt.imshow(space, interpolation='nearest')\n",
    "plt.axis([2480,2520,2520,2480])\n",
    "plt.show()"
   ]
  },
  {
   "cell_type": "code",
   "execution_count": 160,
   "metadata": {
    "collapsed": true
   },
   "outputs": [],
   "source": [
    "def multiple_ants(space, current_position, num_times):\n",
    "    current_direction = direction.NORTH\n",
    "    ones = 0\n",
    "    for _ in range(num_times):\n",
    "        for ant in current_position:\n",
    "            if space[ant[0]][ant[1]]%2 == 1:\n",
    "                space[ant[0]][ant[1]] = 0\n",
    "                ant, current_direction = get_next_coords(ant, current_direction, next_direction.LEFT)\n",
    "            elif space[ant[0]][ant[1]]%2 == 0:\n",
    "                space[ant[0]][ant[1]] = 1\n",
    "                ant, current_direction = get_next_coords(ant, current_direction, next_direction.RIGHT)\n",
    "    return space"
   ]
  },
  {
   "cell_type": "code",
   "execution_count": 179,
   "metadata": {},
   "outputs": [
    {
     "name": "stdout",
     "output_type": "stream",
     "text": [
      "[2500, 2500]\n"
     ]
    }
   ],
   "source": [
    "start, space = initialize(space)\n",
    "print(start)\n",
    "current_position = [[2600, 2600], start, start]\n",
    "space = multiple_ants(space, current_position, 5000000)"
   ]
  },
  {
   "cell_type": "code",
   "execution_count": 183,
   "metadata": {},
   "outputs": [
    {
     "data": {
      "image/png": "[encoded data removed]",
      "text/plain": [
       "<matplotlib.figure.Figure at 0x11dc2e3c8>"
      ]
     },
     "metadata": {},
     "output_type": "display_data"
    }
   ],
   "source": [
    "plt.imshow(space,cmap='Greys', interpolation='nearest')\n",
    "plt.axis([2000, 3000, 2000, 3000])\n",
    "plt.show()"
   ]
  },
  {
   "cell_type": "code",
   "execution_count": null,
   "metadata": {
    "collapsed": true
   },
   "outputs": [],
   "source": []
  }
 ],
 "metadata": {
  "kernelspec": {
   "display_name": "Python 3",
   "language": "python",
   "name": "python3"
  },
  "language_info": {
   "codemirror_mode": {
    "name": "ipython",
    "version": 3
   },
   "file_extension": ".py",
   "mimetype": "text/x-python",
   "name": "python",
   "nbconvert_exporter": "python",
   "pygments_lexer": "ipython3",
   "version": "3.6.3"
  }
 },
 "nbformat": 4,
 "nbformat_minor": 2
}
